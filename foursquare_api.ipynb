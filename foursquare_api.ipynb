{
 "cells": [
  {
   "cell_type": "code",
   "execution_count": 5,
   "metadata": {},
   "outputs": [],
   "source": [
    "import json\n",
    "import requests\n",
    "\n",
    "# Load secrets from credentials.json\n",
    "url = 'https://api.foursquare.com/v2/venues/explore'\n",
    "with open('.secrets/credentials.json') as f:\n",
    "    params = json.load(f)\n",
    "    \n",
    "params['v'] = '20180323'\n",
    "params['ll'] = '40.7243,-74.0018',\n",
    "params['query'] = 'coffee',\n",
    "params['limit'] = 1\n",
    "\n",
    "response = requests.get(url=url, params=params)\n",
    "data = json.loads(response.text)"
   ]
  },
  {
   "cell_type": "code",
   "execution_count": 6,
   "metadata": {},
   "outputs": [
    {
     "data": {
      "text/plain": [
       "True"
      ]
     },
     "execution_count": 6,
     "metadata": {},
     "output_type": "execute_result"
    }
   ],
   "source": [
    "response.status_code == requests.codes.ok"
   ]
  },
  {
   "cell_type": "code",
   "execution_count": 7,
   "metadata": {},
   "outputs": [
    {
     "data": {
      "text/plain": [
       "{'meta': {'code': 200, 'requestId': '5cc21135351e3d1d5175bcf9'},\n",
       " 'response': {'suggestedFilters': {'header': 'Tap to show:',\n",
       "   'filters': [{'name': '$-$$$$', 'key': 'price'},\n",
       "    {'name': 'Open now', 'key': 'openNow'}]},\n",
       "  'warning': {'text': 'There aren\\'t a lot of results for \"coffee.\" Try something more general, reset your filters, or expand the search area.'},\n",
       "  'suggestedRadius': 600,\n",
       "  'headerLocation': 'SoHo',\n",
       "  'headerFullLocation': 'SoHo, New York',\n",
       "  'headerLocationGranularity': 'neighborhood',\n",
       "  'query': 'coffee',\n",
       "  'totalResults': 77,\n",
       "  'suggestedBounds': {'ne': {'lat': 40.72445115622661,\n",
       "    'lng': -74.00383671516222},\n",
       "   'sw': {'lat': 40.72175149644116, 'lng': -74.00111827835521}},\n",
       "  'groups': [{'type': 'Recommended Places',\n",
       "    'name': 'recommended',\n",
       "    'items': [{'reasons': {'count': 0,\n",
       "       'items': [{'summary': 'This spot is popular',\n",
       "         'type': 'general',\n",
       "         'reasonName': 'globalInteractionReason'}]},\n",
       "      'venue': {'id': '45e98bacf964a52080431fe3',\n",
       "       'name': 'MarieBelle',\n",
       "       'contact': {},\n",
       "       'location': {'address': '484 Broome St',\n",
       "        'crossStreet': 'btwn W Broadway & Wooster St',\n",
       "        'lat': 40.72310132633388,\n",
       "        'lng': -74.00247749675871,\n",
       "        'labeledLatLngs': [{'label': 'display',\n",
       "          'lat': 40.72310132633388,\n",
       "          'lng': -74.00247749675871}],\n",
       "        'distance': 145,\n",
       "        'postalCode': '10013',\n",
       "        'cc': 'US',\n",
       "        'city': 'New York',\n",
       "        'state': 'NY',\n",
       "        'country': 'United States',\n",
       "        'formattedAddress': ['484 Broome St (btwn W Broadway & Wooster St)',\n",
       "         'New York, NY 10013',\n",
       "         'United States']},\n",
       "       'categories': [{'id': '4bf58dd8d48988d1d0941735',\n",
       "         'name': 'Dessert Shop',\n",
       "         'pluralName': 'Dessert Shops',\n",
       "         'shortName': 'Desserts',\n",
       "         'icon': {'prefix': 'https://ss3.4sqi.net/img/categories_v2/food/dessert_',\n",
       "          'suffix': '.png'},\n",
       "         'primary': True}],\n",
       "       'verified': True,\n",
       "       'stats': {'tipCount': 0,\n",
       "        'usersCount': 0,\n",
       "        'checkinsCount': 0,\n",
       "        'visitsCount': 0},\n",
       "       'delivery': {'id': '488596',\n",
       "        'url': 'https://www.seamless.com/menu/marie-belle-new-york-484-broome-st-new-york/488596?affiliate=1131&utm_source=foursquare-affiliate-network&utm_medium=affiliate&utm_campaign=1131&utm_content=488596',\n",
       "        'provider': {'name': 'seamless',\n",
       "         'icon': {'prefix': 'https://fastly.4sqi.net/img/general/cap/',\n",
       "          'sizes': [40, 50],\n",
       "          'name': '/delivery_provider_seamless_20180129.png'}}},\n",
       "       'beenHere': {'count': 0,\n",
       "        'lastCheckinExpiredAt': 0,\n",
       "        'marked': False,\n",
       "        'unconfirmedCount': 0},\n",
       "       'photos': {'count': 0, 'groups': []},\n",
       "       'venuePage': {'id': '81170724'},\n",
       "       'hereNow': {'count': 0, 'summary': 'Nobody here', 'groups': []}},\n",
       "      'referralId': 'e-0-45e98bacf964a52080431fe3-0'}]}]}}"
      ]
     },
     "execution_count": 7,
     "metadata": {},
     "output_type": "execute_result"
    }
   ],
   "source": [
    "# find coffee places near Flatiron school\n",
    "data"
   ]
  },
  {
   "cell_type": "code",
   "execution_count": 25,
   "metadata": {},
   "outputs": [],
   "source": [
    "params['v'] = '20180323'\n",
    "params['ll'] = '47.608,-122.336',\n",
    "params['query'] = 'pilates',\n",
    "params['limit'] = 100\n",
    "\n",
    "response = requests.get(url=url, params=params)\n",
    "data = json.loads(response.text)"
   ]
  },
  {
   "cell_type": "code",
   "execution_count": 26,
   "metadata": {},
   "outputs": [
    {
     "data": {
      "text/plain": [
       "dict_keys(['meta', 'response'])"
      ]
     },
     "execution_count": 26,
     "metadata": {},
     "output_type": "execute_result"
    }
   ],
   "source": [
    "data.keys()\n"
   ]
  },
  {
   "cell_type": "code",
   "execution_count": 27,
   "metadata": {},
   "outputs": [
    {
     "data": {
      "text/plain": [
       "dict_keys(['suggestedFilters', 'suggestedRadius', 'headerLocation', 'headerFullLocation', 'headerLocationGranularity', 'query', 'totalResults', 'suggestedBounds', 'groups'])"
      ]
     },
     "execution_count": 27,
     "metadata": {},
     "output_type": "execute_result"
    }
   ],
   "source": [
    "data['response'].keys()"
   ]
  },
  {
   "cell_type": "code",
   "execution_count": null,
   "metadata": {},
   "outputs": [],
   "source": [
    "results = data['response']['groups'][0]['items']"
   ]
  },
  {
   "cell_type": "code",
   "execution_count": 32,
   "metadata": {},
   "outputs": [],
   "source": [
    "venues = []\n",
    "venue_names = []\n",
    "\n",
    "for result in results:\n",
    "    venues.append(result['venue'])\n",
    "    venue_names.append(result['venue']['name'])"
   ]
  },
  {
   "cell_type": "code",
   "execution_count": 33,
   "metadata": {},
   "outputs": [
    {
     "data": {
      "text/plain": [
       "<pymongo.results.InsertManyResult at 0x118741648>"
      ]
     },
     "execution_count": 33,
     "metadata": {},
     "output_type": "execute_result"
    }
   ],
   "source": [
    "import pymongo\n",
    "mc = pymongo.MongoClient()\n",
    "db = mc['foursquare']\n",
    "coll = db['pilates']\n",
    "\n",
    "coll.insert_many(venues)"
   ]
  },
  {
   "cell_type": "code",
   "execution_count": 36,
   "metadata": {},
   "outputs": [
    {
     "data": {
      "text/html": [
       "<div>\n",
       "<style scoped>\n",
       "    .dataframe tbody tr th:only-of-type {\n",
       "        vertical-align: middle;\n",
       "    }\n",
       "\n",
       "    .dataframe tbody tr th {\n",
       "        vertical-align: top;\n",
       "    }\n",
       "\n",
       "    .dataframe thead th {\n",
       "        text-align: right;\n",
       "    }\n",
       "</style>\n",
       "<table border=\"1\" class=\"dataframe\">\n",
       "  <thead>\n",
       "    <tr style=\"text-align: right;\">\n",
       "      <th></th>\n",
       "      <th>0</th>\n",
       "    </tr>\n",
       "  </thead>\n",
       "  <tbody>\n",
       "    <tr>\n",
       "      <th>0</th>\n",
       "      <td>Washington Athletic Club</td>\n",
       "    </tr>\n",
       "    <tr>\n",
       "      <th>1</th>\n",
       "      <td>ZUM fitness</td>\n",
       "    </tr>\n",
       "    <tr>\n",
       "      <th>2</th>\n",
       "      <td>Seattle Athletic Club</td>\n",
       "    </tr>\n",
       "    <tr>\n",
       "      <th>3</th>\n",
       "      <td>Kinesia Pilates Studio</td>\n",
       "    </tr>\n",
       "    <tr>\n",
       "      <th>4</th>\n",
       "      <td>Element Pilates</td>\n",
       "    </tr>\n",
       "    <tr>\n",
       "      <th>5</th>\n",
       "      <td>Go Total Body Fitness</td>\n",
       "    </tr>\n",
       "    <tr>\n",
       "      <th>6</th>\n",
       "      <td>Pilates Seattle International</td>\n",
       "    </tr>\n",
       "    <tr>\n",
       "      <th>7</th>\n",
       "      <td>Atlas Pilates</td>\n",
       "    </tr>\n",
       "    <tr>\n",
       "      <th>8</th>\n",
       "      <td>Pilates ProWorks</td>\n",
       "    </tr>\n",
       "    <tr>\n",
       "      <th>9</th>\n",
       "      <td>Club Pilates</td>\n",
       "    </tr>\n",
       "    <tr>\n",
       "      <th>10</th>\n",
       "      <td>Bria Pilates &amp; Wellness</td>\n",
       "    </tr>\n",
       "    <tr>\n",
       "      <th>11</th>\n",
       "      <td>Conscious Body Pilates</td>\n",
       "    </tr>\n",
       "  </tbody>\n",
       "</table>\n",
       "</div>"
      ],
      "text/plain": [
       "                                0\n",
       "0        Washington Athletic Club\n",
       "1                     ZUM fitness\n",
       "2           Seattle Athletic Club\n",
       "3          Kinesia Pilates Studio\n",
       "4                 Element Pilates\n",
       "5           Go Total Body Fitness\n",
       "6   Pilates Seattle International\n",
       "7                   Atlas Pilates\n",
       "8                Pilates ProWorks\n",
       "9                    Club Pilates\n",
       "10        Bria Pilates & Wellness\n",
       "11         Conscious Body Pilates"
      ]
     },
     "execution_count": 36,
     "metadata": {},
     "output_type": "execute_result"
    }
   ],
   "source": [
    "import pandas as pd\n",
    "pd.DataFrame(venue_names)"
   ]
  },
  {
   "cell_type": "code",
   "execution_count": null,
   "metadata": {},
   "outputs": [],
   "source": [
    "#create a database for all places that are open late\n",
    "GET https://api.foursquare.com/v2/venues/VENUE_ID/hours"
   ]
  },
  {
   "cell_type": "code",
   "execution_count": 35,
   "metadata": {},
   "outputs": [],
   "source": [
    "# Load secrets from credentials.json\n",
    "url = 'https://api.foursquare.com/v2/venues/explore'\n",
    "with open('.secrets/credentials.json') as f:\n",
    "    params = json.load(f)\n",
    "    \n",
    "params['v'] = '20180323'\n",
    "params['ll'] = '47.608,-122.336',\n",
    "params['limit'] = 1000\n",
    "\n",
    "response = requests.get(url=url, params=params)\n",
    "data = json.loads(response.text)"
   ]
  },
  {
   "cell_type": "code",
   "execution_count": 42,
   "metadata": {},
   "outputs": [],
   "source": [
    "results = data['response']['groups'][0]['items']"
   ]
  },
  {
   "cell_type": "code",
   "execution_count": 48,
   "metadata": {},
   "outputs": [],
   "source": [
    "venues = []\n",
    "venue_ids = []\n",
    "\n",
    "for result in results:\n",
    "    venues.append(result['venue'])\n",
    "    venue_ids.append(result['venue']['id'])"
   ]
  },
  {
   "cell_type": "code",
   "execution_count": 49,
   "metadata": {},
   "outputs": [
    {
     "data": {
      "text/plain": [
       "['41f98080f964a5203b1f1fe3',\n",
       " '449ae181f964a5209f341fe3',\n",
       " '42a63500f964a5200a251fe3',\n",
       " '47a4ec98f964a520834d1fe3',\n",
       " '4a468425f964a52000a91fe3',\n",
       " '50a12449e4b005ec01be7505',\n",
       " '4a8cd2ecf964a5202e0f20e3',\n",
       " '4c51cb5494790f4784aba7a1',\n",
       " '457945ebf964a520cc3e1fe3',\n",
       " '58ad168cd8e55956ea9db67e',\n",
       " '40b68100f964a5206e001fe3',\n",
       " '504e7942e4b06a5988112a15',\n",
       " '42f54f00f964a520cb261fe3',\n",
       " '4aa42487f964a520834520e3',\n",
       " '51a6011a498e869101a10917',\n",
       " '4b0c7f0bf964a5204f3e23e3',\n",
       " '522eafa011d29bac05cc59ef',\n",
       " '4a4d485cf964a520d2ad1fe3',\n",
       " '40c8f600f964a520fd001fe3',\n",
       " '40b13b00f964a52087f61ee3',\n",
       " '4cd2f6a5dd24a090364fc1d2',\n",
       " '5547e25f498eb3997761016d',\n",
       " '5a21ade8a6031c4b2e1b3fd1',\n",
       " '4e68cd89cc3f39dbbd1d52fb',\n",
       " '4ddff11b227140b9050de0d6',\n",
       " '4b647e5ef964a520d0b72ae3',\n",
       " '4c2a3a5c8abca593cb58fe1f',\n",
       " '55c2fa2a498ed63d59453939',\n",
       " '511d2f0db0ed4a4d357f263f',\n",
       " '4c918253b641236aaa6d8279',\n",
       " '40b13b00f964a52006f71ee3',\n",
       " '4a410f8cf964a520b9a41fe3',\n",
       " '535ae0e0498efe7e90899fc7',\n",
       " '557eee70498e7a2c0297a62d',\n",
       " '5c97041c6fd626002c9a01ef',\n",
       " '46681722f964a5208b471fe3',\n",
       " '49ef647df964a520ad681fe3',\n",
       " '4bf960cb4a67c928f2b826cf',\n",
       " '47347490f964a5202b4c1fe3',\n",
       " '4b5f379ef964a520f4ad29e3',\n",
       " '4b295179f964a520d49c24e3',\n",
       " '51d9cb4d498e71691005418d',\n",
       " '4b707dcdf964a520c71d2de3',\n",
       " '4add1dddf964a5202a6421e3',\n",
       " '4a5e3bfcf964a52034be1fe3',\n",
       " '473dec17f964a520664c1fe3',\n",
       " '522663178bbd11bcb9ed0381',\n",
       " '455864a4f964a520403d1fe3',\n",
       " '58d5ea26ca10707e57ac0198',\n",
       " '441dff3bf964a52076311fe3',\n",
       " '58211aae56e6050a613f2f1b',\n",
       " '4ff1b0b1e4b092e4b2df5bc6',\n",
       " '46c83565f964a5201f4a1fe3',\n",
       " '40b13b00f964a520e1f61ee3',\n",
       " '4a735223f964a52020dc1fe3',\n",
       " '4a4b973af964a52078ac1fe3',\n",
       " '5130fe65e4120e2b1ab130b1',\n",
       " '52b4d334498e0fe1ffca7f79',\n",
       " '52251f9511d2b2f238901956',\n",
       " '40b13b00f964a52020f61ee3',\n",
       " '4a3e8a8df964a52008a31fe3',\n",
       " '50523792e4b0c32d8cc1a4aa',\n",
       " '542f165f498e08f48d5d8ce8',\n",
       " '4a1b52eff964a520ea7a1fe3',\n",
       " '563ede7bcd10f3a329203068',\n",
       " '515c8616e4b0bf0bece09446',\n",
       " '427ea800f964a520b1211fe3',\n",
       " '4aa01b75f964a520523e20e3',\n",
       " '4b1d7670f964a520e11024e3',\n",
       " '4abd05d0f964a5201c8820e3',\n",
       " '44d1ef56f964a52030361fe3',\n",
       " '47b5b90bf964a520ae4d1fe3',\n",
       " '4a4bc093f964a520abac1fe3',\n",
       " '4b8593a9f964a5207e6631e3',\n",
       " '4a3c2d5df964a52038a11fe3',\n",
       " '5aae7807a22db7227b2a7bb3',\n",
       " '457da38cf964a5202c3f1fe3',\n",
       " '4a74a0b0f964a520eade1fe3',\n",
       " '56ca5a05cd10c7b2ee77b104',\n",
       " '4b5daa3ff964a520cc6529e3',\n",
       " '4ba2a067f964a5207c0a38e3',\n",
       " '4a6e24f6f964a52007d41fe3',\n",
       " '52d456c811d24128cdd7bc8b',\n",
       " '4db739f7f7b12e4237b06edd',\n",
       " '4b172856f964a52032c323e3',\n",
       " '4e2eedab18a8ea95b0a07ed0',\n",
       " '4aaaa869f964a520d15620e3',\n",
       " '41e31700f964a520cd1e1fe3',\n",
       " '40b13b00f964a520dbf61ee3',\n",
       " '4597de79f964a5207b401fe3',\n",
       " '4c8ae4ef9ef0224b5c775f7b',\n",
       " '40b13b00f964a5203df71ee3',\n",
       " '42e03700f964a52064261fe3',\n",
       " '51c1286f498e2505fd764fbe',\n",
       " '4fb68613e4b03322467127af',\n",
       " '4a8cb4baf964a520f10e20e3',\n",
       " '4a85b6f3f964a52007ff1fe3',\n",
       " '4aac25e7f964a520825c20e3',\n",
       " '4bb6dfda941ad13a9f1e20e3',\n",
       " '564e6ed5498eb69070554f79']"
      ]
     },
     "execution_count": 49,
     "metadata": {},
     "output_type": "execute_result"
    }
   ],
   "source": [
    "venue_ids"
   ]
  },
  {
   "cell_type": "code",
   "execution_count": null,
   "metadata": {},
   "outputs": [],
   "source": [
    "hours_url = 'https://api.foursquare.com/v2/venues/VENUE_ID/hours'\n",
    "\n",
    "venues\n",
    "\n",
    "for item in venue_ids:\n",
    "    with open('.secrets/credentials.json') as f:\n",
    "        params = json.load(f)\n",
    "    \n",
    "    params['VENUE_ID'] = item\n",
    "\n",
    "    response = requests.get(url=hours_url, params=params)\n",
    "    data = json.loads(response.text)\n",
    "\n",
    "    \n"
   ]
  }
 ],
 "metadata": {
  "kernelspec": {
   "display_name": "Python [conda env:root]",
   "language": "python",
   "name": "conda-root-py"
  },
  "language_info": {
   "codemirror_mode": {
    "name": "ipython",
    "version": 3
   },
   "file_extension": ".py",
   "mimetype": "text/x-python",
   "name": "python",
   "nbconvert_exporter": "python",
   "pygments_lexer": "ipython3",
   "version": "3.7.1"
  }
 },
 "nbformat": 4,
 "nbformat_minor": 2
}
